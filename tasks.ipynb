{
 "cells": [
  {
   "metadata": {},
   "cell_type": "markdown",
   "source": "# Tasks\n",
   "id": "87157f11580b523a"
  },
  {
   "metadata": {},
   "cell_type": "markdown",
   "source": [
    "##### Task 1: Binary Representations\n",
    "Create the following functions in Python, demonstrating their use with examples and tests.\n",
    "\n",
    "The function `rotl(x, n=1)` that rotates the bits in a 32-bit unsigned integer to the left n places.\n",
    "\n",
    "The function `rotr(x, n=1)` that rotates the bits in a 32-bit unsigned integer to the right n places.\n",
    "\n",
    "The function `ch(x, y, z)` that chooses the bits from y where x has bits set to 1 and bits in z where x has bits set to 0.\n",
    "\n",
    "The function `maj(x, y, z)` which takes a majority vote of the bits in x, y, and z.\n",
    "The output should have a 1 in bit position i where at least two of x, y, and z have 1's in position i.\n",
    "All other output bit positions should be 0.\n",
    "\n",
    "\n"
   ],
   "id": "a5ef469fba983d99"
  },
  {
   "metadata": {
    "ExecuteTime": {
     "end_time": "2025-02-26T09:15:43.214661Z",
     "start_time": "2025-02-26T09:15:43.213081Z"
    }
   },
   "cell_type": "code",
   "source": [
    "import sys\n",
    "\n",
    "# IMPORTS\n",
    "import numpy as np\n",
    "import pandas as pd\n",
    "import seaborn as sb"
   ],
   "id": "38b4028de56f98e4",
   "outputs": [],
   "execution_count": 1
  },
  {
   "metadata": {},
   "cell_type": "markdown",
   "source": "The following rotation fuctions `rotl` and `rotr` both shift binary numbers by x places using bitwise operators, this is useful for editing memory addresses, as well as the theory behind keeping overflow in check: we use the wrap around to ensure that our values stay consistent, and dont loose any values from overflowing outside the given bit range.",
   "id": "a419a84470f1d782"
  },
  {
   "metadata": {
    "ExecuteTime": {
     "end_time": "2025-02-26T09:15:43.222783Z",
     "start_time": "2025-02-26T09:15:43.220750Z"
    }
   },
   "cell_type": "code",
   "source": [
    "def rotl(x: int, n:int = 1) -> int: # takes in X - the integer to rotate, and n the rotations (defaults to 1)\n",
    "    # assign x to 32bit memory maximum address range\n",
    "    x = x & 0xFFFFFFFF\n",
    "    n = n % 32 # normalises n to be within a [0, 32] bit range, any rotation over this is made small\n",
    "\n",
    "    if n == 0:\n",
    "        return x\n",
    "    # X is then shifted to the left by the amount of [n] bits, the second set of our\n",
    "    # return statement shifts x to the right [32-n] bits which causes a wrap around,\n",
    "    # finally bitwise & operator used to match to 32bit output\n",
    "\n",
    "    return (x << n) | (x >> (32 - n)) & 0xFFFFFFFF"
   ],
   "id": "c3cee4459324572c",
   "outputs": [],
   "execution_count": 2
  },
  {
   "metadata": {
    "ExecuteTime": {
     "end_time": "2025-02-26T09:15:43.228244Z",
     "start_time": "2025-02-26T09:15:43.226131Z"
    }
   },
   "cell_type": "code",
   "source": [
    "def rotr(x: int, n:int = 1) -> int: # takes in X - the integer to rotate, and n, the rotations (defaults to 1)\n",
    "    # assign x to 32bit memory maximum address range\n",
    "    x = x & 0xFFFFFFFF\n",
    "    n = n % 32 # normalises n to be within a [0, 32] bit range, any rotation over this is made small\n",
    "\n",
    "    if n == 0:\n",
    "        return x\n",
    "\n",
    "    # X is then shifted to the right by the amount of [n] bits, the second set of our\n",
    "    # return statement shifts x to the left [32-n] bits which causes a wrap around,\n",
    "    # finally bitwise & operator used to match to 32bit output\n",
    "    return ((x >> n) | (x << (32 - n))) & 0xFFFFFFFF"
   ],
   "id": "adb1db6cfd140aff",
   "outputs": [],
   "execution_count": 3
  },
  {
   "metadata": {},
   "cell_type": "markdown",
   "source": "the function `ch()` inverts and then converts given bits, with an example explained below",
   "id": "67db2c4beba44451"
  },
  {
   "metadata": {
    "ExecuteTime": {
     "end_time": "2025-02-26T09:15:43.232432Z",
     "start_time": "2025-02-26T09:15:43.230662Z"
    }
   },
   "cell_type": "code",
   "source": [
    "def ch(x: int, y: int, z: int) -> int:\n",
    "    # x & y uses bitwise AND [&] operator to compare the two values and return 1 or 0 depending on comparison\n",
    "    # then we use the bitwise XOR operator [^] to compare if the bits are different or the same,\n",
    "    # finally we use the bitwise NOT operator [~] to invert the given bits\n",
    "    return (x & y) ^ (~x & z)"
   ],
   "id": "4123adbf757fe462",
   "outputs": [],
   "execution_count": 4
  },
  {
   "metadata": {},
   "cell_type": "markdown",
   "source": [
    "in the example if we had `X = 1100` and `Y = 1010`, and `Z = 0101`\n",
    "then first we take Ys bits where `X = 1`, which leaves us with `1000`, as the first 2 sections of x are 1,\n",
    "meaning we take the first two sections from y instead, resulting in 10\n",
    "next we invert x using the NOT operator so `1100`, becomes `0011`, and we then in the same fashion using\n",
    "the bitwise AND operator, we take Z's bits where x is one, so for `X = 0011` and `Z = 0101` we get a result of `0001`, since\n",
    "the last two bits of X are 1 and the first 2 are\n",
    "finally using the XOR operator we combine the two values `1000` and `0001`, to gain `1001`"
   ],
   "id": "1187047608a8cd7"
  },
  {
   "metadata": {},
   "cell_type": "markdown",
   "source": [
    "The maj function works where:\n",
    "- (x & y) gets bits where both x and y are 1\n",
    "- (x & z) gets bits where both x and z are 1\n",
    "- (y & z) gets bits where both y and z are 1\n",
    "bitwise `|` (OR) combines all these cases\n",
    "\n",
    "this means that for any bit position if at least two inputs have 1s, one of these AND terms will\n",
    " produce a 1 if only one or no inputs have a 1, all AND terms will be 0"
   ],
   "id": "5baf3a5904f2c2d3"
  },
  {
   "metadata": {
    "ExecuteTime": {
     "end_time": "2025-02-26T09:15:43.283313Z",
     "start_time": "2025-02-26T09:15:43.281834Z"
    }
   },
   "cell_type": "code",
   "source": [
    "def maj(x: int, y: int, z: int) -> int:\n",
    "    return (x & y) | (x & z) | (y & z) # bitwise & operator gets bits where both X numbers are 1, the OR operator combines them\n"
   ],
   "id": "fabe62a9e4d7643",
   "outputs": [],
   "execution_count": 5
  },
  {
   "metadata": {},
   "cell_type": "markdown",
   "source": " **Task 1 Test cases:**",
   "id": "436f3d8b87f334c3"
  },
  {
   "metadata": {
    "ExecuteTime": {
     "end_time": "2025-02-26T09:15:43.291061Z",
     "start_time": "2025-02-26T09:15:43.287078Z"
    }
   },
   "cell_type": "code",
   "source": [
    "# Test case 1: Simple number rotation\n",
    "def test_rot():\n",
    "    print(\"RotL and RotR tests\")\n",
    "    x = 5\n",
    "    print(f\"Original number: {x} (binary: {bin(x)[2:].zfill(32)})\")\n",
    "    rotated_left = rotl(x, 1)\n",
    "    print(f\"Rotated left by 1: {rotated_left} (binary: {bin(rotated_left)[2:].zfill(32)})\")\n",
    "    rotated_right = rotr(x, 1)\n",
    "    print(f\"Rotated right by 1: {rotated_right} (binary: {bin(rotated_right)[2:].zfill(32)})\")\n",
    "\n",
    "    # Test case 2: Zero rotation\n",
    "    x = 0x12345678\n",
    "    print(f\"\\nOriginal number: {hex(x)}\")\n",
    "    print(f\"Rotated left by 0: {hex(rotl(x, 0))}\")\n",
    "    print(f\"Rotated right by 0: {hex(rotr(x, 0))}\")\n",
    "\n",
    "    # Test case 3: Inverse operation check\n",
    "    print(f\"\\nTesting inverse operations:\")\n",
    "    x = 0x12345678\n",
    "    left_then_right = rotr(rotl(x, 1), 1)\n",
    "    print(f\"Original: {hex(x)}\")\n",
    "    print(f\"Rotated left then right: {hex(left_then_right)}\")\n",
    "    print(f\"Are they equal? {x == left_then_right}\")\n",
    "\n",
    "def test_ch():\n",
    "    print(\"Ch tests\")\n",
    "    # Convert inputs to binary for visualization\n",
    "    def print_binary(n, label):\n",
    "        return f\"{label}: {bin(n & 0xFF)[2:].zfill(8)}\" # shows last 8 bits in output\n",
    "\n",
    "    # Test case 1: Simple example\n",
    "    x = 0b11110000\n",
    "    y = 0b11111111\n",
    "    z = 0b00000000\n",
    "    result = ch(x, y, z)\n",
    "\n",
    "    print(\"Test case 1:\")\n",
    "    print(print_binary(x, \"x    \"))\n",
    "    print(print_binary(y, \"y    \"))\n",
    "    print(print_binary(z, \"z    \"))\n",
    "    print(print_binary(result, \"result\"))\n",
    "    print(f\"Result in decimal: {result}\")\n",
    "\n",
    "    # Test case 2: Alternating bits\n",
    "    x = 0b10101010\n",
    "    y = 0b11111111\n",
    "    z = 0b00000000\n",
    "    result = ch(x, y, z)\n",
    "\n",
    "    print(\"\\nTest case 2:\")\n",
    "    print(print_binary(x, \"x    \"))\n",
    "    print(print_binary(y, \"y    \"))\n",
    "    print(print_binary(z, \"z    \"))\n",
    "    print(print_binary(result, \"result\"))\n",
    "    print(f\"Result in decimal: {result}\")\n",
    "\n",
    "def test_maj():\n",
    "    def print_binary(n, label):\n",
    "        return f\"{label}: {bin(n & 0xFF)[2:].zfill(8)}\"  # Shows last 8 bits\n",
    "\n",
    "    # Test case\n",
    "    x = 0b1100\n",
    "    y = 0b1010\n",
    "    z = 0b1001\n",
    "\n",
    "    result = maj(x, y, z)\n",
    "\n",
    "    print(\"Maj Test\")\n",
    "    print(print_binary(x, \"x    \"))\n",
    "    print(print_binary(y, \"y    \"))\n",
    "    print(print_binary(z, \"z    \"))\n",
    "    print(print_binary(result, \"result\"))\n",
    "\n",
    "\n",
    "def linebreak():\n",
    "    print(\"------------------------------------------------------------\\n\"\n",
    "          \"--------------------------END_TEST--------------------------\\n\"\n",
    "          \"------------------------------------------------------------\")\n"
   ],
   "id": "4a3551ef24180b9a",
   "outputs": [],
   "execution_count": 6
  },
  {
   "metadata": {
    "ExecuteTime": {
     "end_time": "2025-02-26T09:15:43.314844Z",
     "start_time": "2025-02-26T09:15:43.312985Z"
    }
   },
   "cell_type": "code",
   "source": [
    "# run all test cases\n",
    "test_rot()\n",
    "linebreak()\n",
    "test_ch()\n",
    "linebreak()\n",
    "test_maj()"
   ],
   "id": "5be75adebf9f04f6",
   "outputs": [
    {
     "name": "stdout",
     "output_type": "stream",
     "text": [
      "RotL and RotR tests\n",
      "Original number: 5 (binary: 00000000000000000000000000000101)\n",
      "Rotated left by 1: 10 (binary: 00000000000000000000000000001010)\n",
      "Rotated right by 1: 2147483650 (binary: 10000000000000000000000000000010)\n",
      "\n",
      "Original number: 0x12345678\n",
      "Rotated left by 0: 0x12345678\n",
      "Rotated right by 0: 0x12345678\n",
      "\n",
      "Testing inverse operations:\n",
      "Original: 0x12345678\n",
      "Rotated left then right: 0x12345678\n",
      "Are they equal? True\n",
      "------------------------------------------------------------\n",
      "--------------------------END_TEST--------------------------\n",
      "------------------------------------------------------------\n",
      "Ch tests\n",
      "Test case 1:\n",
      "x    : 11110000\n",
      "y    : 11111111\n",
      "z    : 00000000\n",
      "result: 11110000\n",
      "Result in decimal: 240\n",
      "\n",
      "Test case 2:\n",
      "x    : 10101010\n",
      "y    : 11111111\n",
      "z    : 00000000\n",
      "result: 10101010\n",
      "Result in decimal: 170\n",
      "------------------------------------------------------------\n",
      "--------------------------END_TEST--------------------------\n",
      "------------------------------------------------------------\n",
      "Maj Test\n",
      "x    : 00001100\n",
      "y    : 00001010\n",
      "z    : 00001001\n",
      "result: 00001000\n"
     ]
    }
   ],
   "execution_count": 7
  },
  {
   "metadata": {},
   "cell_type": "markdown",
   "source": [
    "##### Task 2:\n",
    "the following hash function is from *The C Programming Language* by Brian Kernighan and Dennis Ritchie.\n",
    "Convert it to Python, test it, and suggest why the values 31 and 101 are used.\n",
    "\n",
    "```c\n",
    "unsigned hash(char *s) {\n",
    "    unsigned hashval;\n",
    "    for (hashval = 0; *s != '\\0'; s++)\n",
    "        hashval = *s + 31 * hashval;\n",
    "    return hashval % 101;\n",
    "}\n",
    "```"
   ],
   "id": "e5565f69e7c61e6f"
  },
  {
   "metadata": {},
   "cell_type": "markdown",
   "source": [
    "Conversion of the function from c is not too difficult given relationship of c to python, with a few differences:\n",
    "- `str type` is used instead of `char*`\n",
    "- `ord(c)` is used to get the unicode value for each character as compared to `*s`\n",
    "- Python lacks null terminators in its strings"
   ],
   "id": "4ff9b66441abeb7d"
  },
  {
   "metadata": {
    "ExecuteTime": {
     "end_time": "2025-02-26T09:15:43.333900Z",
     "start_time": "2025-02-26T09:15:43.332147Z"
    }
   },
   "cell_type": "code",
   "source": [
    "def hash(s: str) -> int:\n",
    "    hashval = 0\n",
    "    for c in s:\n",
    "        if c == '\\0':  # Check for null terminator\n",
    "            break\n",
    "        hashval = ord(c) + 31 * hashval\n",
    "    return hashval % 101"
   ],
   "id": "d5455fa0deefa035",
   "outputs": [],
   "execution_count": 8
  },
  {
   "metadata": {},
   "cell_type": "markdown",
   "source": [
    "as to how the function is used the numbers `31` and `101` may be used.\n",
    "first 31 is commonly used in hash functions because of its status as a prime number, meaning it has great distribution properties for strings\n",
    "and $31 * n$ can be optimised by most compilers through `(n << 5) - n`\n",
    "Next, 101 is used as it is also a prime number, and is large enough to provide decent distribution while still being efficient in size, Taking a module by a prime number helps distribute hash values more evenly\n"
   ],
   "id": "6328c1f947551cf4"
  },
  {
   "metadata": {},
   "cell_type": "markdown",
   "source": [
    "##### Task 3: SHA256\n",
    "\n",
    "Write a Python function that calculates the SHA256 padding for a given file.\n",
    "The function should take a file path as input.\n",
    "It should print, in hex, the padding that would be applied to it.\n",
    "The [specification](https://doi.org/10.6028/NIST.FIPS.180-4) states that the following should be appended to a message:\n",
    "\n",
    "- a`1` bit;\n",
    "- enough `0` bits so the length in bits of padded message is the smallest possible multiple of 512;\n",
    "- the length in bits of the original input as a big-endian 64-bit unsigned integer.\n",
    "\n",
    "The example in the specification is a file containing the three bytes `abc`:\n",
    "\n",
    "```python\n",
    "01100001 01100010 01100011\n",
    "```\n",
    "\n",
    "The output would be:\n",
    "\n",
    "```python\n",
    "80 00 00 00 00 00 00 00 00 00 00 00 00 00 00 00 00 00 00 00 00 00 00 00 00 00\n",
    "00 00 00 00 00 00 00 00 00 00 00 00 00 00 00 00 00 00 00 00 00 00 00 00 00 00\n",
    "00 00 00 00 00 00 00 00 18\n",
    "```"
   ],
   "id": "76f0e9a4892eb280"
  },
  {
   "metadata": {},
   "cell_type": "markdown",
   "source": [
    "According to NIST FIPS 180-4 specification, SHA256 padding consists of:\n",
    "- A '1' bit appended to the message\n",
    "- Enough '0' bits so the message length is congruent to 448 modulo 512 bits\n",
    "- The original message length as a 64-bit big-endian integer\n",
    "\n",
    "Args:\n",
    "    file_path (str): Path to the file for which to calculate padding"
   ],
   "id": "23b63c12b2f8b54d"
  },
  {
   "metadata": {
    "ExecuteTime": {
     "end_time": "2025-02-26T10:50:20.771204Z",
     "start_time": "2025-02-26T10:50:20.766143Z"
    }
   },
   "cell_type": "code",
   "source": [
    "def calc_sha256_padding(file_path):\n",
    "    # Read file content\n",
    "    with open(file_path, 'rb') as f:\n",
    "        message = f.read()\n",
    "\n",
    "    # Calculate original message length in bits\n",
    "    original_bit_length = len(message) * 8\n",
    "\n",
    "    # Start building padding\n",
    "    padding = bytearray()\n",
    "\n",
    "    # Append '1' bit followed by '0' bits\n",
    "    # First byte: 10000000 (0x80 in hex)\n",
    "    padding.append(0x80)\n",
    "\n",
    "    # Calculate how many zero bytes we need\n",
    "    # We need the total length (original + padding + 8 bytes for length) to be a multiple of 64 bytes (512 bits)\n",
    "    # (original_length + 1 + k + 8) % 64 = 0, where k is the number of zero bytes\n",
    "    # Therefore k = 64 - (original_length + 1 + 8) % 64 = 55 - original_length % 64\n",
    "\n",
    "\n",
    "    zero_bytes_needed = 55 - (len(message) % 64)\n",
    "    if zero_bytes_needed < 0:\n",
    "        zero_bytes_needed += 64     # If k is negative, we add 64 to it\n",
    "\n",
    "    # Add zero bytes\n",
    "    padding.extend(b'\\x00' * zero_bytes_needed)\n",
    "\n",
    "    # Append original message length as 64-bit big-endian integer\n",
    "    # Since Python can handle arbitrarily large integers, we'll use 8 bytes (64 bits)\n",
    "    for i in range(7, -1, -1):\n",
    "        # Extract each byte of the length, starting from the most significant\n",
    "        # Shift right by i*8 bits and mask with 0xFF to get the byte\n",
    "        padding.append((original_bit_length >> (i * 8)) & 0xFF)\n",
    "\n",
    "    # Print the padding in hex format, with each byte separated\n",
    "    hex_padding = ' '.join(f'{b:02X}' for b in padding)\n",
    "\n",
    "    # Format the output to match the example (80 followed by zeros and then the length)\n",
    "    print(hex_padding)\n",
    "\n",
    "    return padding"
   ],
   "id": "2566e0384243cc27",
   "outputs": [],
   "execution_count": 9
  },
  {
   "metadata": {},
   "cell_type": "markdown",
   "source": "this function is derived from the SHS (secure hash standard) defining the padding scheme behind the SHA-256 algorithm,",
   "id": "9c460049553ab22"
  },
  {
   "metadata": {
    "ExecuteTime": {
     "end_time": "2025-02-26T10:50:25.343375Z",
     "start_time": "2025-02-26T10:50:25.340375Z"
    }
   },
   "cell_type": "code",
   "source": [
    "### testing\n",
    "\n",
    "def test_shaPadding(file_path: str):\n",
    "    # Example usage\n",
    "    if __name__ == \"__main__\":\n",
    "        # Test with a file containing 'abc'\n",
    "        import tempfile\n",
    "\n",
    "        # Create a temporary file with 'abc'\n",
    "        with tempfile.NamedTemporaryFile(delete=False) as temp:\n",
    "            temp.write(b'abc')\n",
    "            temp_path = temp.name\n",
    "\n",
    "        print(\"SHA256 padding for file containing 'abc':\")\n",
    "        calc_sha256_padding(temp_path)\n",
    "\n",
    "        # Expected output for 'abc' (3 bytes = 24 bits):\n",
    "        # 80 00 00 00 00 00 00 00 00 00 00 00 00 00 00 00 00 00 00 00 00 00 00 00 00 00\n",
    "        # 00 00 00 00 00 00 00 00 00 00 00 00 00 00 00 00 00 00 00 00 00 00 00 00 00 00\n",
    "        # 00 00 00 00 00 00 00 00 18"
   ],
   "id": "4147eec70e53e6e4",
   "outputs": [],
   "execution_count": 10
  },
  {
   "metadata": {
    "ExecuteTime": {
     "end_time": "2025-02-26T10:51:11.193478Z",
     "start_time": "2025-02-26T10:51:11.189442Z"
    }
   },
   "cell_type": "code",
   "source": [
    "# test sha Padding\n",
    "test_shaPadding(sys.argv[1])\n",
    "linebreak()"
   ],
   "id": "e97ee6beba5f705c",
   "outputs": [
    {
     "name": "stdout",
     "output_type": "stream",
     "text": [
      "SHA256 padding for file containing 'abc':\n",
      "80 00 00 00 00 00 00 00 00 00 00 00 00 00 00 00 00 00 00 00 00 00 00 00 00 00 00 00 00 00 00 00 00 00 00 00 00 00 00 00 00 00 00 00 00 00 00 00 00 00 00 00 00 00 00 00 00 00 00 00 18\n",
      "------------------------------------------------------------\n",
      "--------------------------END_TEST--------------------------\n",
      "------------------------------------------------------------\n"
     ]
    }
   ],
   "execution_count": 12
  }
 ],
 "metadata": {
  "kernelspec": {
   "display_name": "Python 3",
   "language": "python",
   "name": "python3"
  },
  "language_info": {
   "codemirror_mode": {
    "name": "ipython",
    "version": 2
   },
   "file_extension": ".py",
   "mimetype": "text/x-python",
   "name": "python",
   "nbconvert_exporter": "python",
   "pygments_lexer": "ipython2",
   "version": "2.7.6"
  }
 },
 "nbformat": 4,
 "nbformat_minor": 5
}
