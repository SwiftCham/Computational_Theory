{
 "cells": [
  {
   "metadata": {},
   "cell_type": "markdown",
   "source": "# Tasks\n",
   "id": "87157f11580b523a"
  },
  {
   "metadata": {},
   "cell_type": "markdown",
   "source": [
    "##### Task 1: Binary Representations\n",
    "Create the following functions in Python, demonstrating their use with examples and tests.\n",
    "\n",
    "The function `rotl(x, n=1)` that rotates the bits in a 32-bit unsigned integer to the left n places.\n",
    "\n",
    "The function `rotr(x, n=1)` that rotates the bits in a 32-bit unsigned integer to the right n places.\n",
    "\n",
    "The function `ch(x, y, z)` that chooses the bits from y where x has bits set to 1 and bits in z where x has bits set to 0.\n",
    "\n",
    "The function `maj(x, y, z)` which takes a majority vote of the bits in x, y, and z.\n",
    "The output should have a 1 in bit position i where at least two of x, y, and z have 1's in position i.\n",
    "All other output bit positions should be 0.\n",
    "\n",
    "\n"
   ],
   "id": "a5ef469fba983d99"
  },
  {
   "metadata": {
    "ExecuteTime": {
     "end_time": "2025-04-15T19:59:53.363461Z",
     "start_time": "2025-04-15T19:59:53.361160Z"
    }
   },
   "cell_type": "code",
   "source": [
    "import sys\n",
    "from typing import List, Tuple\n",
    "import time\n",
    "import numpy as np\n",
    "import math\n",
    "import hashlib\n",
    "import pandas as pd\n",
    "import seaborn as sb"
   ],
   "id": "38b4028de56f98e4",
   "outputs": [],
   "execution_count": 1
  },
  {
   "metadata": {},
   "cell_type": "markdown",
   "source": "The following rotation fuctions `rotl` and `rotr` both shift binary numbers by x places using bitwise operators, this is useful for editing memory addresses, as well as the theory behind keeping overflow in check: we use the wrap around to ensure that our values stay consistent, and dont loose any values from overflowing outside the given bit range.",
   "id": "a419a84470f1d782"
  },
  {
   "metadata": {
    "ExecuteTime": {
     "end_time": "2025-04-15T19:59:53.371868Z",
     "start_time": "2025-04-15T19:59:53.369797Z"
    }
   },
   "cell_type": "code",
   "source": [
    "def rotl(x: int, n:int = 1) -> int: # takes in X - the integer to rotate, and n the rotations (defaults to 1)\n",
    "    # assign x to 32bit memory maximum address range\n",
    "    x = x & 0xFFFFFFFF\n",
    "    n = n % 32 # normalises n to be within a [0, 32] bit range, any rotation over this is made small\n",
    "\n",
    "    if n == 0:\n",
    "        return x\n",
    "    # X is then shifted to the left by the amount of [n] bits, the second set of our\n",
    "    # return statement shifts x to the right [32-n] bits which causes a wrap around,\n",
    "    # finally bitwise & operator used to match to 32bit output\n",
    "\n",
    "    return (x << n) | (x >> (32 - n)) & 0xFFFFFFFF"
   ],
   "id": "c3cee4459324572c",
   "outputs": [],
   "execution_count": 2
  },
  {
   "metadata": {
    "ExecuteTime": {
     "end_time": "2025-04-15T19:59:53.376553Z",
     "start_time": "2025-04-15T19:59:53.374598Z"
    }
   },
   "cell_type": "code",
   "source": [
    "def rotr(x: int, n:int = 1) -> int: # takes in X - the integer to rotate, and n, the rotations (defaults to 1)\n",
    "    # assign x to 32bit memory maximum address range\n",
    "    x = x & 0xFFFFFFFF\n",
    "    n = n % 32 # normalises n to be within a [0, 32] bit range, any rotation over this is made small\n",
    "\n",
    "    if n == 0:\n",
    "        return x\n",
    "\n",
    "    # X is then shifted to the right by the amount of [n] bits, the second set of our\n",
    "    # return statement shifts x to the left [32-n] bits which causes a wrap around,\n",
    "    # finally bitwise & operator used to match to 32bit output\n",
    "    return ((x >> n) | (x << (32 - n))) & 0xFFFFFFFF"
   ],
   "id": "adb1db6cfd140aff",
   "outputs": [],
   "execution_count": 3
  },
  {
   "metadata": {},
   "cell_type": "markdown",
   "source": "the function `ch()` inverts and then converts given bits, with an example explained below",
   "id": "67db2c4beba44451"
  },
  {
   "metadata": {
    "ExecuteTime": {
     "end_time": "2025-04-15T19:59:53.381005Z",
     "start_time": "2025-04-15T19:59:53.379128Z"
    }
   },
   "cell_type": "code",
   "source": [
    "def ch(x: int, y: int, z: int) -> int:\n",
    "    # x & y uses bitwise AND [&] operator to compare the two values and return 1 or 0 depending on comparison\n",
    "    # then we use the bitwise XOR operator [^] to compare if the bits are different or the same,\n",
    "    # finally we use the bitwise NOT operator [~] to invert the given bits\n",
    "    return (x & y) ^ (~x & z)"
   ],
   "id": "4123adbf757fe462",
   "outputs": [],
   "execution_count": 4
  },
  {
   "metadata": {},
   "cell_type": "markdown",
   "source": [
    "in the example if we had `X = 1100` and `Y = 1010`, and `Z = 0101`\n",
    "then first we take Ys bits where `X = 1`, which leaves us with `1000`, as the first 2 sections of x are 1,\n",
    "meaning we take the first two sections from y instead, resulting in 10\n",
    "next we invert x using the NOT operator so `1100`, becomes `0011`, and we then in the same fashion using\n",
    "the bitwise AND operator, we take Z's bits where x is one, so for `X = 0011` and `Z = 0101` we get a result of `0001`, since\n",
    "the last two bits of X are 1 and the first 2 are\n",
    "finally using the XOR operator we combine the two values `1000` and `0001`, to gain `1001`"
   ],
   "id": "1187047608a8cd7"
  },
  {
   "metadata": {},
   "cell_type": "markdown",
   "source": [
    "The maj function works where:\n",
    "- (x & y) gets bits where both x and y are 1\n",
    "- (x & z) gets bits where both x and z are 1\n",
    "- (y & z) gets bits where both y and z are 1\n",
    "bitwise `|` (OR) combines all these cases\n",
    "\n",
    "this means that for any bit position if at least two inputs have 1s, one of these AND terms will\n",
    " produce a 1 if only one or no inputs have a 1, all AND terms will be 0"
   ],
   "id": "5baf3a5904f2c2d3"
  },
  {
   "metadata": {
    "ExecuteTime": {
     "end_time": "2025-04-15T19:59:53.436163Z",
     "start_time": "2025-04-15T19:59:53.434614Z"
    }
   },
   "cell_type": "code",
   "source": [
    "def maj(x: int, y: int, z: int) -> int:\n",
    "    return (x & y) | (x & z) | (y & z) # bitwise & operator gets bits where both X numbers are 1, the OR operator combines them\n"
   ],
   "id": "fabe62a9e4d7643",
   "outputs": [],
   "execution_count": 5
  },
  {
   "metadata": {},
   "cell_type": "markdown",
   "source": " **Task 1 Test cases:**",
   "id": "436f3d8b87f334c3"
  },
  {
   "metadata": {
    "ExecuteTime": {
     "end_time": "2025-04-15T19:59:53.447506Z",
     "start_time": "2025-04-15T19:59:53.443186Z"
    }
   },
   "cell_type": "code",
   "source": [
    "# Test case 1: Simple number rotation\n",
    "def test_rot():\n",
    "    print(\"RotL and RotR tests\")\n",
    "    x = 5\n",
    "    print(f\"Original number: {x} (binary: {bin(x)[2:].zfill(32)})\")\n",
    "    rotated_left = rotl(x, 1)\n",
    "    print(f\"Rotated left by 1: {rotated_left} (binary: {bin(rotated_left)[2:].zfill(32)})\")\n",
    "    rotated_right = rotr(x, 1)\n",
    "    print(f\"Rotated right by 1: {rotated_right} (binary: {bin(rotated_right)[2:].zfill(32)})\")\n",
    "\n",
    "    # Test case 2: Zero rotation\n",
    "    x = 0x12345678\n",
    "    print(f\"\\nOriginal number: {hex(x)}\")\n",
    "    print(f\"Rotated left by 0: {hex(rotl(x, 0))}\")\n",
    "    print(f\"Rotated right by 0: {hex(rotr(x, 0))}\")\n",
    "\n",
    "    # Test case 3: Inverse operation check\n",
    "    print(f\"\\nTesting inverse operations:\")\n",
    "    x = 0x12345678\n",
    "    left_then_right = rotr(rotl(x, 1), 1)\n",
    "    print(f\"Original: {hex(x)}\")\n",
    "    print(f\"Rotated left then right: {hex(left_then_right)}\")\n",
    "    print(f\"Are they equal? {x == left_then_right}\")\n",
    "\n",
    "def test_ch():\n",
    "    print(\"Ch tests\")\n",
    "    # Convert inputs to binary for visualization\n",
    "    def print_binary(n, label):\n",
    "        return f\"{label}: {bin(n & 0xFF)[2:].zfill(8)}\" # shows last 8 bits in output\n",
    "\n",
    "    # Test case 1: Simple example\n",
    "    x = 0b11110000\n",
    "    y = 0b11111111\n",
    "    z = 0b00000000\n",
    "    result = ch(x, y, z)\n",
    "\n",
    "    print(\"Test case 1:\")\n",
    "    print(print_binary(x, \"x    \"))\n",
    "    print(print_binary(y, \"y    \"))\n",
    "    print(print_binary(z, \"z    \"))\n",
    "    print(print_binary(result, \"result\"))\n",
    "    print(f\"Result in decimal: {result}\")\n",
    "\n",
    "    # Test case 2: Alternating bits\n",
    "    x = 0b10101010\n",
    "    y = 0b11111111\n",
    "    z = 0b00000000\n",
    "    result = ch(x, y, z)\n",
    "\n",
    "    print(\"\\nTest case 2:\")\n",
    "    print(print_binary(x, \"x    \"))\n",
    "    print(print_binary(y, \"y    \"))\n",
    "    print(print_binary(z, \"z    \"))\n",
    "    print(print_binary(result, \"result\"))\n",
    "    print(f\"Result in decimal: {result}\")\n",
    "\n",
    "def test_maj():\n",
    "    def print_binary(n, label):\n",
    "        return f\"{label}: {bin(n & 0xFF)[2:].zfill(8)}\"  # Shows last 8 bits\n",
    "\n",
    "    # Test case\n",
    "    x = 0b1100\n",
    "    y = 0b1010\n",
    "    z = 0b1001\n",
    "\n",
    "    result = maj(x, y, z)\n",
    "\n",
    "    print(\"Maj Test\")\n",
    "    print(print_binary(x, \"x    \"))\n",
    "    print(print_binary(y, \"y    \"))\n",
    "    print(print_binary(z, \"z    \"))\n",
    "    print(print_binary(result, \"result\"))\n",
    "\n",
    "\n",
    "def linebreak():\n",
    "    print(\"------------------------------------------------------------\\n\"\n",
    "          \"--------------------------END_TEST--------------------------\\n\"\n",
    "          \"------------------------------------------------------------\")\n"
   ],
   "id": "4a3551ef24180b9a",
   "outputs": [],
   "execution_count": 6
  },
  {
   "metadata": {
    "ExecuteTime": {
     "end_time": "2025-04-15T19:59:53.468236Z",
     "start_time": "2025-04-15T19:59:53.466595Z"
    }
   },
   "cell_type": "code",
   "source": [
    "# run all test cases\n",
    "test_rot()\n",
    "linebreak()\n",
    "test_ch()\n",
    "linebreak()\n",
    "test_maj()"
   ],
   "id": "5be75adebf9f04f6",
   "outputs": [
    {
     "name": "stdout",
     "output_type": "stream",
     "text": [
      "RotL and RotR tests\n",
      "Original number: 5 (binary: 00000000000000000000000000000101)\n",
      "Rotated left by 1: 10 (binary: 00000000000000000000000000001010)\n",
      "Rotated right by 1: 2147483650 (binary: 10000000000000000000000000000010)\n",
      "\n",
      "Original number: 0x12345678\n",
      "Rotated left by 0: 0x12345678\n",
      "Rotated right by 0: 0x12345678\n",
      "\n",
      "Testing inverse operations:\n",
      "Original: 0x12345678\n",
      "Rotated left then right: 0x12345678\n",
      "Are they equal? True\n",
      "------------------------------------------------------------\n",
      "--------------------------END_TEST--------------------------\n",
      "------------------------------------------------------------\n",
      "Ch tests\n",
      "Test case 1:\n",
      "x    : 11110000\n",
      "y    : 11111111\n",
      "z    : 00000000\n",
      "result: 11110000\n",
      "Result in decimal: 240\n",
      "\n",
      "Test case 2:\n",
      "x    : 10101010\n",
      "y    : 11111111\n",
      "z    : 00000000\n",
      "result: 10101010\n",
      "Result in decimal: 170\n",
      "------------------------------------------------------------\n",
      "--------------------------END_TEST--------------------------\n",
      "------------------------------------------------------------\n",
      "Maj Test\n",
      "x    : 00001100\n",
      "y    : 00001010\n",
      "z    : 00001001\n",
      "result: 00001000\n"
     ]
    }
   ],
   "execution_count": 7
  },
  {
   "metadata": {},
   "cell_type": "markdown",
   "source": [
    "##### Task 2:\n",
    "the following hash function is from *The C Programming Language* by Brian Kernighan and Dennis Ritchie.\n",
    "Convert it to Python, test it, and suggest why the values 31 and 101 are used.\n",
    "\n",
    "```c\n",
    "unsigned hash(char *s) {\n",
    "    unsigned hashval;\n",
    "    for (hashval = 0; *s != '\\0'; s++)\n",
    "        hashval = *s + 31 * hashval;\n",
    "    return hashval % 101;\n",
    "}\n",
    "```"
   ],
   "id": "e5565f69e7c61e6f"
  },
  {
   "metadata": {},
   "cell_type": "markdown",
   "source": [
    "Conversion of the function from c is not too difficult given relationship of c to python, with a few differences:\n",
    "- `str type` is used instead of `char*`\n",
    "- `ord(c)` is used to get the unicode value for each character as compared to `*s`\n",
    "- Python lacks null terminators in its strings"
   ],
   "id": "4ff9b66441abeb7d"
  },
  {
   "metadata": {
    "ExecuteTime": {
     "end_time": "2025-04-15T19:59:53.511439Z",
     "start_time": "2025-04-15T19:59:53.509413Z"
    }
   },
   "cell_type": "code",
   "source": [
    "def hash(s: str) -> int:\n",
    "    hashval = 0\n",
    "    for c in s:\n",
    "        if c == '\\0':  # Check for null terminator\n",
    "            break\n",
    "        hashval = ord(c) + 31 * hashval\n",
    "    return hashval % 101"
   ],
   "id": "d5455fa0deefa035",
   "outputs": [],
   "execution_count": 8
  },
  {
   "metadata": {},
   "cell_type": "markdown",
   "source": [
    "as to how the function is used the numbers `31` and `101` may be used.\n",
    "first 31 is commonly used in hash functions because of its status as a prime number, meaning it has great distribution properties for strings\n",
    "and $31 * n$ can be optimised by most compilers through `(n << 5) - n`\n",
    "Next, 101 is used as it is also a prime number, and is large enough to provide decent distribution while still being efficient in size, Taking a module by a prime number helps distribute hash values more evenly\n"
   ],
   "id": "6328c1f947551cf4"
  },
  {
   "metadata": {},
   "cell_type": "markdown",
   "source": [
    "##### Task 3: SHA256\n",
    "\n",
    "Write a Python function that calculates the SHA256 padding for a given file.\n",
    "The function should take a file path as input.\n",
    "It should print, in hex, the padding that would be applied to it.\n",
    "The [specification](https://doi.org/10.6028/NIST.FIPS.180-4) states that the following should be appended to a message:\n",
    "\n",
    "- a`1` bit;\n",
    "- enough `0` bits so the length in bits of padded message is the smallest possible multiple of 512;\n",
    "- the length in bits of the original input as a big-endian 64-bit unsigned integer.\n",
    "\n",
    "The example in the specification is a file containing the three bytes `abc`:\n",
    "\n",
    "```python\n",
    "01100001 01100010 01100011\n",
    "```\n",
    "\n",
    "The output would be:\n",
    "\n",
    "```python\n",
    "80 00 00 00 00 00 00 00 00 00 00 00 00 00 00 00 00 00 00 00 00 00 00 00 00 00\n",
    "00 00 00 00 00 00 00 00 00 00 00 00 00 00 00 00 00 00 00 00 00 00 00 00 00 00\n",
    "00 00 00 00 00 00 00 00 18\n",
    "```"
   ],
   "id": "76f0e9a4892eb280"
  },
  {
   "metadata": {},
   "cell_type": "markdown",
   "source": [
    "According to NIST FIPS 180-4 specification, SHA256 padding consists of:\n",
    "- A '1' bit appended to the message\n",
    "- Enough '0' bits so the message length is congruent to 448 modulo 512 bits\n",
    "- The original message length as a 64-bit big-endian integer\n",
    "\n",
    "Args:\n",
    "    file_path (str): Path to the file for which to calculate padding"
   ],
   "id": "23b63c12b2f8b54d"
  },
  {
   "metadata": {
    "ExecuteTime": {
     "end_time": "2025-04-15T19:59:53.521326Z",
     "start_time": "2025-04-15T19:59:53.518519Z"
    }
   },
   "cell_type": "code",
   "source": [
    "def calc_sha256_padding(file_path):\n",
    "    # Read file content\n",
    "    with open(file_path, 'rb') as f:\n",
    "        message = f.read()\n",
    "\n",
    "    # Calculate original message length in bits\n",
    "    original_bit_length = len(message) * 8\n",
    "\n",
    "    # Start building padding\n",
    "    padding = bytearray()\n",
    "\n",
    "    # Append '1' bit followed by '0' bits\n",
    "    # First byte: 10000000 (0x80 in hex)\n",
    "    padding.append(0x80)\n",
    "\n",
    "    # Calculate how many zero bytes we need\n",
    "    # We need the total length (original + padding + 8 bytes for length) to be a multiple of 64 bytes (512 bits)\n",
    "    # (original_length + 1 + k + 8) % 64 = 0, where k is the number of zero bytes\n",
    "    # Therefore k = 64 - (original_length + 1 + 8) % 64 = 55 - original_length % 64\n",
    "\n",
    "\n",
    "    zero_bytes_needed = 55 - (len(message) % 64)\n",
    "    if zero_bytes_needed < 0:\n",
    "        zero_bytes_needed += 64     # If k is negative, we add 64 to it\n",
    "\n",
    "    # Add zero bytes\n",
    "    padding.extend(b'\\x00' * zero_bytes_needed)\n",
    "\n",
    "    # Append original message length as 64-bit big-endian integer\n",
    "    # Since Python can handle arbitrarily large integers, we'll use 8 bytes (64 bits)\n",
    "    for i in range(7, -1, -1):\n",
    "        # Extract each byte of the length, starting from the most significant\n",
    "        # Shift right by i*8 bits and mask with 0xFF to get the byte\n",
    "        padding.append((original_bit_length >> (i * 8)) & 0xFF)\n",
    "\n",
    "    # Print the padding in hex format, with each byte separated\n",
    "    hex_padding = ' '.join(f'{b:02X}' for b in padding)\n",
    "\n",
    "    # Format the output to match the example (80 followed by zeros and then the length)\n",
    "    print(hex_padding)\n",
    "\n",
    "    return padding"
   ],
   "id": "2566e0384243cc27",
   "outputs": [],
   "execution_count": 9
  },
  {
   "metadata": {},
   "cell_type": "markdown",
   "source": "this function is derived from the SHS (secure hash standard) defining the padding scheme behind the SHA-256 algorithm,",
   "id": "9c460049553ab22"
  },
  {
   "metadata": {
    "ExecuteTime": {
     "end_time": "2025-04-15T19:59:53.527587Z",
     "start_time": "2025-04-15T19:59:53.525681Z"
    }
   },
   "cell_type": "code",
   "source": [
    "### testing\n",
    "\n",
    "def test_shaPadding(file_path: str):\n",
    "    # Example usage\n",
    "    if __name__ == \"__main__\":\n",
    "        # Test with a file containing 'abc'\n",
    "        import tempfile\n",
    "\n",
    "        # Create a temporary file with 'abc'\n",
    "        with tempfile.NamedTemporaryFile(delete=False) as temp:\n",
    "            temp.write(b'abc')\n",
    "            temp_path = temp.name\n",
    "\n",
    "        print(\"SHA256 padding for file containing 'abc':\")\n",
    "        calc_sha256_padding(temp_path)\n",
    "\n",
    "        # Expected output for 'abc' (3 bytes = 24 bits):\n",
    "        # 80 00 00 00 00 00 00 00 00 00 00 00 00 00 00 00 00 00 00 00 00 00 00 00 00 00\n",
    "        # 00 00 00 00 00 00 00 00 00 00 00 00 00 00 00 00 00 00 00 00 00 00 00 00 00 00\n",
    "        # 00 00 00 00 00 00 00 00 18"
   ],
   "id": "4147eec70e53e6e4",
   "outputs": [],
   "execution_count": 10
  },
  {
   "metadata": {
    "ExecuteTime": {
     "end_time": "2025-04-15T19:59:53.537145Z",
     "start_time": "2025-04-15T19:59:53.534913Z"
    }
   },
   "cell_type": "code",
   "source": [
    "# test sha Padding\n",
    "test_shaPadding(sys.argv[1])\n",
    "linebreak()"
   ],
   "id": "e97ee6beba5f705c",
   "outputs": [
    {
     "name": "stdout",
     "output_type": "stream",
     "text": [
      "SHA256 padding for file containing 'abc':\n",
      "80 00 00 00 00 00 00 00 00 00 00 00 00 00 00 00 00 00 00 00 00 00 00 00 00 00 00 00 00 00 00 00 00 00 00 00 00 00 00 00 00 00 00 00 00 00 00 00 00 00 00 00 00 00 00 00 00 00 00 00 18\n",
      "------------------------------------------------------------\n",
      "--------------------------END_TEST--------------------------\n",
      "------------------------------------------------------------\n"
     ]
    }
   ],
   "execution_count": 11
  },
  {
   "metadata": {},
   "cell_type": "markdown",
   "source": [
    "#### Task 4: Prime Numbers\n",
    "Calculate the first 100 prime numbers using two different algorithms.\n",
    "Any algorithms that are well-established and works correctly are okay to use.\n",
    "Explain how the algorithms work."
   ],
   "id": "31b69da7899dbf71"
  },
  {
   "metadata": {},
   "cell_type": "markdown",
   "source": [
    "Sieve of Eratosthenes:\n",
    "\n",
    "The below function calculates primes up to n using the Sieve of Eratosthenes algorithm.\n",
    "\n",
    "This algorithm works by:\n",
    "1. Creating a list of all integers from 2 to n\n",
    "2. Starting with the first prime (2), mark all its multiples as non-prime\n",
    "3. Move to the next unmarked number (which is prime) and repeat\n",
    "4. Continue until we've processed all numbers up to sqrt(n)\n"
   ],
   "id": "1cebe585cb3c7bca"
  },
  {
   "metadata": {
    "ExecuteTime": {
     "end_time": "2025-04-15T19:59:53.555667Z",
     "start_time": "2025-04-15T19:59:53.553608Z"
    }
   },
   "cell_type": "code",
   "source": [
    "def sieve_of_eratosthenes(n: int) -> List[int]:\n",
    "    # Creates a boolean array \"is_prime[0..n]\" and initialises all entries as true\n",
    "    is_prime = [True for i in range(n+1)]\n",
    "    p = 2\n",
    "\n",
    "    # Eventually a value in is_prime will finally be false if it is not a prime\n",
    "    while p * p <= n:\n",
    "        # if is_prime[p] is not changed, then it is a prime\n",
    "        if is_prime[p]:\n",
    "            # updates all multiples of p\n",
    "            for i in range(p * p, n+1, p):\n",
    "                is_prime[i] = False\n",
    "        p += 1\n",
    "\n",
    "    # Creates a list of all prime numbers\n",
    "    primes = [p for p in range(2, n+1) if is_prime[p]]\n",
    "    return primes"
   ],
   "id": "ba8e5bf661cf218",
   "outputs": [],
   "execution_count": 12
  },
  {
   "metadata": {},
   "cell_type": "markdown",
   "source": [
    "Trial Division:\n",
    "The below function calculates the first n prime numbers using the trial division algorithm.\n",
    "\n",
    "This algorithm works by:\n",
    "1. Starting with 2 (the first prime)\n",
    "2. For each subsequent number, check if it's divisible by any previous prime\n",
    "3. If not divisible by any prime up to its square root, it's a prime"
   ],
   "id": "8b84c931baf31222"
  },
  {
   "metadata": {
    "ExecuteTime": {
     "end_time": "2025-04-15T19:59:53.570182Z",
     "start_time": "2025-04-15T19:59:53.568127Z"
    }
   },
   "cell_type": "code",
   "source": [
    "def trial_division(n: int) -> List[int]:\n",
    "    primes = []\n",
    "    num = 2\n",
    "\n",
    "    while len(primes) < n:\n",
    "        is_prime = True\n",
    "        # checks divisibilty up to square root of number\n",
    "        for prime in primes:\n",
    "            if prime * prime > num:\n",
    "                break\n",
    "            if num % prime == 0:\n",
    "                is_prime = False\n",
    "                break\n",
    "\n",
    "        if is_prime:\n",
    "            primes.append(num)\n",
    "        num += 1\n",
    "\n",
    "    return primes"
   ],
   "id": "b6429f49a5c6633e",
   "outputs": [],
   "execution_count": 13
  },
  {
   "metadata": {
    "ExecuteTime": {
     "end_time": "2025-04-15T19:59:53.579196Z",
     "start_time": "2025-04-15T19:59:53.576428Z"
    }
   },
   "cell_type": "code",
   "source": [
    "### testing\n",
    "def test_algorithms():\n",
    "    # Number of primes to calculate\n",
    "    n = 100\n",
    "\n",
    "    # Estimates upper bound using prime number theorem: n * ln(n) + n * ln(ln(n))\n",
    "    # this approximation helps to determine how high to go for sieve algorithm\n",
    "    upper_bound = int(n * np.log(n) + n * np.log(np.log(n))) * 2\n",
    "\n",
    "    print(f\"Calculating the first {n} prime numbers using different algorithms:\")\n",
    "\n",
    "    # method 1: Sieve of Eratosthenes\n",
    "    start_time = time.time()\n",
    "    sieve_primes = sieve_of_eratosthenes(upper_bound)[:n]\n",
    "    sieve_time = time.time() - start_time\n",
    "    print(f\"\\nSieve of Eratosthenes:\")\n",
    "    print(f\"Time taken: {sieve_time:.6f} seconds\")\n",
    "    print(f\"First 10 primes: {sieve_primes[:10]}\")\n",
    "    print(f\"Last 10 primes: {sieve_primes[-10:]}\")\n",
    "\n",
    "    # method 2: Trial Division\n",
    "    start_time = time.time()\n",
    "    trial_division_primes = trial_division(n)\n",
    "    trial_division_time = time.time() - start_time\n",
    "    print(f\"\\nTrial Division:\")\n",
    "    print(f\"Time taken: {trial_division_time:.6f} seconds\")\n",
    "    print(f\"First 10 primes: {trial_division_primes[:10]}\")\n",
    "    print(f\"Last 10 primes: {trial_division_primes[-10:]}\")\n",
    "\n",
    "    # Verifys all methods give the same result\n",
    "    if sieve_primes == trial_division_primes:\n",
    "        print(\"\\nAll algorithms produced the same results ✓\")\n",
    "    else:\n",
    "        print(\"\\nWARNING: Algorithms produced different results!\")\n"
   ],
   "id": "7fb7bbba15b40477",
   "outputs": [],
   "execution_count": 14
  },
  {
   "metadata": {
    "ExecuteTime": {
     "end_time": "2025-04-15T19:59:53.585199Z",
     "start_time": "2025-04-15T19:59:53.583493Z"
    }
   },
   "cell_type": "code",
   "source": "test_algorithms()",
   "id": "465899ec12b43a2",
   "outputs": [
    {
     "name": "stdout",
     "output_type": "stream",
     "text": [
      "Calculating the first 100 prime numbers using different algorithms:\n",
      "\n",
      "Sieve of Eratosthenes:\n",
      "Time taken: 0.000068 seconds\n",
      "First 10 primes: [2, 3, 5, 7, 11, 13, 17, 19, 23, 29]\n",
      "Last 10 primes: [467, 479, 487, 491, 499, 503, 509, 521, 523, 541]\n",
      "\n",
      "Trial Division:\n",
      "Time taken: 0.000084 seconds\n",
      "First 10 primes: [2, 3, 5, 7, 11, 13, 17, 19, 23, 29]\n",
      "Last 10 primes: [467, 479, 487, 491, 499, 503, 509, 521, 523, 541]\n",
      "\n",
      "All algorithms produced the same results ✓\n"
     ]
    }
   ],
   "execution_count": 15
  },
  {
   "metadata": {},
   "cell_type": "markdown",
   "source": [
    "#### Task 5: Roots\n",
    "Calculate the first 32 bits of the fractional part of the square roots of the first 100 prime numbers."
   ],
   "id": "132077be0a979ea2"
  },
  {
   "metadata": {},
   "cell_type": "markdown",
   "source": "In this task we will reuse functions from the previous task for getting prime numbers",
   "id": "e242a85be7a86c7d"
  },
  {
   "metadata": {},
   "cell_type": "markdown",
   "source": "The below function extracts the specified number of bits from the fractional part of a given floating-point number.",
   "id": "be1e21f0faf3d078"
  },
  {
   "metadata": {
    "ExecuteTime": {
     "end_time": "2025-04-15T19:59:53.604624Z",
     "start_time": "2025-04-15T19:59:53.602602Z"
    }
   },
   "cell_type": "code",
   "source": [
    "def get_fractional_bits(x: float, num_bits: int = 32) -> str:\n",
    "    # Extracts fractional part\n",
    "    fractional_part = x - math.floor(x)\n",
    "\n",
    "    # Extracts bits using binary multiplication\n",
    "    bits = \"\"\n",
    "    for _ in range(num_bits):\n",
    "        fractional_part *= 2\n",
    "        if fractional_part >= 1:\n",
    "            bits += \"1\"\n",
    "            fractional_part -= 1\n",
    "        else:\n",
    "            bits += \"0\"\n",
    "\n",
    "    return bits\n"
   ],
   "id": "ba3981068c7d17b7",
   "outputs": [],
   "execution_count": 16
  },
  {
   "metadata": {},
   "cell_type": "markdown",
   "source": [
    "The Below funtion calculates the first num_bits bits of the fractional part of the square roots\n",
    "of the first n_primes prime numbers."
   ],
   "id": "d832626a6ae0a9a8"
  },
  {
   "metadata": {
    "ExecuteTime": {
     "end_time": "2025-04-15T19:59:53.618160Z",
     "start_time": "2025-04-15T19:59:53.615806Z"
    }
   },
   "cell_type": "code",
   "source": [
    "def calculate_prime_sqrt_bits(n_primes: int = 100, num_bits: int = 32) -> List[Tuple[int, str]]:\n",
    "    # estimates upper bound using prime number theorem\n",
    "    upper_bound = int(n_primes * math.log(n_primes) + n_primes * math.log(math.log(n_primes))) * 2\n",
    "\n",
    "    # Gets the first n_primes using the existing sieve function from previous task\n",
    "    primes = sieve_of_eratosthenes(upper_bound)[:n_primes]\n",
    "\n",
    "    # Calculates square roots and extract bits\n",
    "    results = []\n",
    "    for prime in primes:\n",
    "        sqrt_value = math.sqrt(prime)\n",
    "        fractional_bits = get_fractional_bits(sqrt_value, num_bits)\n",
    "        results.append((prime, fractional_bits))\n",
    "\n",
    "    return results\n"
   ],
   "id": "ba4abcc7c9566a5d",
   "outputs": [],
   "execution_count": 17
  },
  {
   "metadata": {
    "ExecuteTime": {
     "end_time": "2025-04-15T19:59:53.624511Z",
     "start_time": "2025-04-15T19:59:53.622573Z"
    }
   },
   "cell_type": "code",
   "source": [
    "### Testing\n",
    "\n",
    "def prime_sqrt_bits_demo():\n",
    "    results = calculate_prime_sqrt_bits(100, 32)\n",
    "\n",
    "    print(\"First 32 bits of fractional parts of √p for first 100 primes:\\n\")\n",
    "    for prime, bits in results:\n",
    "        sqrt_value = math.sqrt(prime)\n",
    "        print(f\"Prime: {prime:3d}, √{prime} ≈ {sqrt_value:.8f}\")\n",
    "        print(f\"Fractional bits: {bits}\")\n",
    "        print(\"-\" * 60)"
   ],
   "id": "fad4bb1a457251ff",
   "outputs": [],
   "execution_count": 18
  },
  {
   "metadata": {
    "ExecuteTime": {
     "end_time": "2025-04-15T19:59:53.631912Z",
     "start_time": "2025-04-15T19:59:53.629387Z"
    }
   },
   "cell_type": "code",
   "source": "prime_sqrt_bits_demo()",
   "id": "e552f24534f48189",
   "outputs": [
    {
     "name": "stdout",
     "output_type": "stream",
     "text": [
      "First 32 bits of fractional parts of √p for first 100 primes:\n",
      "\n",
      "Prime:   2, √2 ≈ 1.41421356\n",
      "Fractional bits: 01101010000010011110011001100111\n",
      "------------------------------------------------------------\n",
      "Prime:   3, √3 ≈ 1.73205081\n",
      "Fractional bits: 10111011011001111010111010000101\n",
      "------------------------------------------------------------\n",
      "Prime:   5, √5 ≈ 2.23606798\n",
      "Fractional bits: 00111100011011101111001101110010\n",
      "------------------------------------------------------------\n",
      "Prime:   7, √7 ≈ 2.64575131\n",
      "Fractional bits: 10100101010011111111010100111010\n",
      "------------------------------------------------------------\n",
      "Prime:  11, √11 ≈ 3.31662479\n",
      "Fractional bits: 01010001000011100101001001111111\n",
      "------------------------------------------------------------\n",
      "Prime:  13, √13 ≈ 3.60555128\n",
      "Fractional bits: 10011011000001010110100010001100\n",
      "------------------------------------------------------------\n",
      "Prime:  17, √17 ≈ 4.12310563\n",
      "Fractional bits: 00011111100000111101100110101011\n",
      "------------------------------------------------------------\n",
      "Prime:  19, √19 ≈ 4.35889894\n",
      "Fractional bits: 01011011111000001100110100011001\n",
      "------------------------------------------------------------\n",
      "Prime:  23, √23 ≈ 4.79583152\n",
      "Fractional bits: 11001011101110111001110101011101\n",
      "------------------------------------------------------------\n",
      "Prime:  29, √29 ≈ 5.38516481\n",
      "Fractional bits: 01100010100110100010100100101010\n",
      "------------------------------------------------------------\n",
      "Prime:  31, √31 ≈ 5.56776436\n",
      "Fractional bits: 10010001010110010000000101011010\n",
      "------------------------------------------------------------\n",
      "Prime:  37, √37 ≈ 6.08276253\n",
      "Fractional bits: 00010101001011111110110011011000\n",
      "------------------------------------------------------------\n",
      "Prime:  41, √41 ≈ 6.40312424\n",
      "Fractional bits: 01100111001100110010011001100111\n",
      "------------------------------------------------------------\n",
      "Prime:  43, √43 ≈ 6.55743852\n",
      "Fractional bits: 10001110101101000100101010000111\n",
      "------------------------------------------------------------\n",
      "Prime:  47, √47 ≈ 6.85565460\n",
      "Fractional bits: 11011011000011000010111000001101\n",
      "------------------------------------------------------------\n",
      "Prime:  53, √53 ≈ 7.28010989\n",
      "Fractional bits: 01000111101101010100100000011101\n",
      "------------------------------------------------------------\n",
      "Prime:  59, √59 ≈ 7.68114575\n",
      "Fractional bits: 10101110010111111001000101010110\n",
      "------------------------------------------------------------\n",
      "Prime:  61, √61 ≈ 7.81024968\n",
      "Fractional bits: 11001111011011001000010111010011\n",
      "------------------------------------------------------------\n",
      "Prime:  67, √67 ≈ 8.18535277\n",
      "Fractional bits: 00101111011100110100011101111101\n",
      "------------------------------------------------------------\n",
      "Prime:  71, √71 ≈ 8.42614977\n",
      "Fractional bits: 01101101000110000010011011001010\n",
      "------------------------------------------------------------\n",
      "Prime:  73, √73 ≈ 8.54400375\n",
      "Fractional bits: 10001011010000111101010001010111\n",
      "------------------------------------------------------------\n",
      "Prime:  79, √79 ≈ 8.88819442\n",
      "Fractional bits: 11100011011000001011010110010110\n",
      "------------------------------------------------------------\n",
      "Prime:  83, √83 ≈ 9.11043358\n",
      "Fractional bits: 00011100010001010110000000000010\n",
      "------------------------------------------------------------\n",
      "Prime:  89, √89 ≈ 9.43398113\n",
      "Fractional bits: 01101111000110010110001100110001\n",
      "------------------------------------------------------------\n",
      "Prime:  97, √97 ≈ 9.84885780\n",
      "Fractional bits: 11011001010011101011111010110001\n",
      "------------------------------------------------------------\n",
      "Prime: 101, √101 ≈ 10.04987562\n",
      "Fractional bits: 00001100110001001010011000010001\n",
      "------------------------------------------------------------\n",
      "Prime: 103, √103 ≈ 10.14889157\n",
      "Fractional bits: 00100110000111011100000111110010\n",
      "------------------------------------------------------------\n",
      "Prime: 107, √107 ≈ 10.34408043\n",
      "Fractional bits: 01011000000101011010011110111110\n",
      "------------------------------------------------------------\n",
      "Prime: 109, √109 ≈ 10.44030651\n",
      "Fractional bits: 01110000101101111110110101100111\n",
      "------------------------------------------------------------\n",
      "Prime: 113, √113 ≈ 10.63014581\n",
      "Fractional bits: 10100001010100010011110001101001\n",
      "------------------------------------------------------------\n",
      "Prime: 127, √127 ≈ 11.26942767\n",
      "Fractional bits: 01000100111110010011011000110101\n",
      "------------------------------------------------------------\n",
      "Prime: 131, √131 ≈ 11.44552314\n",
      "Fractional bits: 01110010000011011100110111111101\n",
      "------------------------------------------------------------\n",
      "Prime: 137, √137 ≈ 11.70469991\n",
      "Fractional bits: 10110100011001110011011010011110\n",
      "------------------------------------------------------------\n",
      "Prime: 139, √139 ≈ 11.78982612\n",
      "Fractional bits: 11001010001100100000101101110101\n",
      "------------------------------------------------------------\n",
      "Prime: 149, √149 ≈ 12.20655562\n",
      "Fractional bits: 00110100111000001101010000101110\n",
      "------------------------------------------------------------\n",
      "Prime: 151, √151 ≈ 12.28820573\n",
      "Fractional bits: 01001001110001111101100110111101\n",
      "------------------------------------------------------------\n",
      "Prime: 157, √157 ≈ 12.52996409\n",
      "Fractional bits: 10000111101010111011100111110010\n",
      "------------------------------------------------------------\n",
      "Prime: 163, √163 ≈ 12.76714533\n",
      "Fractional bits: 11000100011000111010001011111100\n",
      "------------------------------------------------------------\n",
      "Prime: 167, √167 ≈ 12.92284798\n",
      "Fractional bits: 11101100001111111100001111110011\n",
      "------------------------------------------------------------\n",
      "Prime: 173, √173 ≈ 13.15294644\n",
      "Fractional bits: 00100111001001110111111101101101\n",
      "------------------------------------------------------------\n",
      "Prime: 179, √179 ≈ 13.37908816\n",
      "Fractional bits: 01100001000010111110101111110010\n",
      "------------------------------------------------------------\n",
      "Prime: 181, √181 ≈ 13.45362405\n",
      "Fractional bits: 01110100001000001011010010011110\n",
      "------------------------------------------------------------\n",
      "Prime: 191, √191 ≈ 13.82027496\n",
      "Fractional bits: 11010001111111011000101000110011\n",
      "------------------------------------------------------------\n",
      "Prime: 193, √193 ≈ 13.89244399\n",
      "Fractional bits: 11100100011101110011010110010100\n",
      "------------------------------------------------------------\n",
      "Prime: 197, √197 ≈ 14.03566885\n",
      "Fractional bits: 00001001001000011001011111110110\n",
      "------------------------------------------------------------\n",
      "Prime: 199, √199 ≈ 14.10673598\n",
      "Fractional bits: 00011011010100110000110010010101\n",
      "------------------------------------------------------------\n",
      "Prime: 211, √211 ≈ 14.52583905\n",
      "Fractional bits: 10000110100111010110001101000010\n",
      "------------------------------------------------------------\n",
      "Prime: 223, √223 ≈ 14.93318452\n",
      "Fractional bits: 11101110111001010010111001001111\n",
      "------------------------------------------------------------\n",
      "Prime: 227, √227 ≈ 15.06651917\n",
      "Fractional bits: 00010001000001110110011010001001\n",
      "------------------------------------------------------------\n",
      "Prime: 229, √229 ≈ 15.13274595\n",
      "Fractional bits: 00100001111110111010001101111011\n",
      "------------------------------------------------------------\n",
      "Prime: 233, √233 ≈ 15.26433752\n",
      "Fractional bits: 01000011101010111001111110110110\n",
      "------------------------------------------------------------\n",
      "Prime: 239, √239 ≈ 15.45962483\n",
      "Fractional bits: 01110101101010011111100100011101\n",
      "------------------------------------------------------------\n",
      "Prime: 241, √241 ≈ 15.52417470\n",
      "Fractional bits: 10000110001100000101000000011001\n",
      "------------------------------------------------------------\n",
      "Prime: 251, √251 ≈ 15.84297952\n",
      "Fractional bits: 11010111110011011000000101110011\n",
      "------------------------------------------------------------\n",
      "Prime: 257, √257 ≈ 16.03121954\n",
      "Fractional bits: 00000111111111100000000011111111\n",
      "------------------------------------------------------------\n",
      "Prime: 263, √263 ≈ 16.21727474\n",
      "Fractional bits: 00110111100111110101000100111111\n",
      "------------------------------------------------------------\n",
      "Prime: 269, √269 ≈ 16.40121947\n",
      "Fractional bits: 01100110101101100101000110101000\n",
      "------------------------------------------------------------\n",
      "Prime: 271, √271 ≈ 16.46207763\n",
      "Fractional bits: 01110110010010101011100001000010\n",
      "------------------------------------------------------------\n",
      "Prime: 277, √277 ≈ 16.64331698\n",
      "Fractional bits: 10100100101100000110101111100001\n",
      "------------------------------------------------------------\n",
      "Prime: 281, √281 ≈ 16.76305461\n",
      "Fractional bits: 11000011010101111000110000010101\n",
      "------------------------------------------------------------\n",
      "Prime: 283, √283 ≈ 16.82260384\n",
      "Fractional bits: 11010010100101100010101001010011\n",
      "------------------------------------------------------------\n",
      "Prime: 293, √293 ≈ 17.11724277\n",
      "Fractional bits: 00011110000000111001111101000000\n",
      "------------------------------------------------------------\n",
      "Prime: 307, √307 ≈ 17.52141547\n",
      "Fractional bits: 10000101011110110111101111101110\n",
      "------------------------------------------------------------\n",
      "Prime: 311, √311 ≈ 17.63519209\n",
      "Fractional bits: 10100010100110111111001011011110\n",
      "------------------------------------------------------------\n",
      "Prime: 313, √313 ≈ 17.69180601\n",
      "Fractional bits: 10110001000110100011001011101000\n",
      "------------------------------------------------------------\n",
      "Prime: 317, √317 ≈ 17.80449381\n",
      "Fractional bits: 11001101111100110100111010000000\n",
      "------------------------------------------------------------\n",
      "Prime: 331, √331 ≈ 18.19340540\n",
      "Fractional bits: 00110001100000110000010000100110\n",
      "------------------------------------------------------------\n",
      "Prime: 337, √337 ≈ 18.35755975\n",
      "Fractional bits: 01011011100010010000100100101011\n",
      "------------------------------------------------------------\n",
      "Prime: 347, √347 ≈ 18.62793601\n",
      "Fractional bits: 10100000110000000110101000010011\n",
      "------------------------------------------------------------\n",
      "Prime: 349, √349 ≈ 18.68154169\n",
      "Fractional bits: 10101110011110011000010000101111\n",
      "------------------------------------------------------------\n",
      "Prime: 353, √353 ≈ 18.78829423\n",
      "Fractional bits: 11001001110011011010011010001001\n",
      "------------------------------------------------------------\n",
      "Prime: 359, √359 ≈ 18.94729532\n",
      "Fractional bits: 11110010100000011111001000111001\n",
      "------------------------------------------------------------\n",
      "Prime: 367, √367 ≈ 19.15724406\n",
      "Fractional bits: 00101000010000010010010110010010\n",
      "------------------------------------------------------------\n",
      "Prime: 373, √373 ≈ 19.31320792\n",
      "Fractional bits: 01010000001011100110010011011011\n",
      "------------------------------------------------------------\n",
      "Prime: 379, √379 ≈ 19.46792233\n",
      "Fractional bits: 01110111110010011100001000010001\n",
      "------------------------------------------------------------\n",
      "Prime: 383, √383 ≈ 19.57038579\n",
      "Fractional bits: 10010010000001001100110110011101\n",
      "------------------------------------------------------------\n",
      "Prime: 389, √389 ≈ 19.72308292\n",
      "Fractional bits: 10111001000110111111011001100011\n",
      "------------------------------------------------------------\n",
      "Prime: 397, √397 ≈ 19.92485885\n",
      "Fractional bits: 11101100110000111000110010011101\n",
      "------------------------------------------------------------\n",
      "Prime: 401, √401 ≈ 20.02498439\n",
      "Fractional bits: 00000110011001010110000010010101\n",
      "------------------------------------------------------------\n",
      "Prime: 409, √409 ≈ 20.22374842\n",
      "Fractional bits: 00111001010001111001001110000001\n",
      "------------------------------------------------------------\n",
      "Prime: 419, √419 ≈ 20.46948949\n",
      "Fractional bits: 01111000001100000111011010010111\n",
      "------------------------------------------------------------\n",
      "Prime: 421, √421 ≈ 20.51828453\n",
      "Fractional bits: 10000100101011100100101101111100\n",
      "------------------------------------------------------------\n",
      "Prime: 431, √431 ≈ 20.76053949\n",
      "Fractional bits: 11000010101100101011011101010101\n",
      "------------------------------------------------------------\n",
      "Prime: 433, √433 ≈ 20.80865205\n",
      "Fractional bits: 11001111000000111101001000001110\n",
      "------------------------------------------------------------\n",
      "Prime: 439, √439 ≈ 20.95232684\n",
      "Fractional bits: 11110011110010111011000100010111\n",
      "------------------------------------------------------------\n",
      "Prime: 443, √443 ≈ 21.04756518\n",
      "Fractional bits: 00001100001011010011101101001011\n",
      "------------------------------------------------------------\n",
      "Prime: 449, √449 ≈ 21.18962010\n",
      "Fractional bits: 00110000100010101111000101100001\n",
      "------------------------------------------------------------\n",
      "Prime: 457, √457 ≈ 21.37755833\n",
      "Fractional bits: 01100000101001111010100110011000\n",
      "------------------------------------------------------------\n",
      "Prime: 461, √461 ≈ 21.47091055\n",
      "Fractional bits: 01111000100011011001100000010010\n",
      "------------------------------------------------------------\n",
      "Prime: 463, √463 ≈ 21.51743479\n",
      "Fractional bits: 10000100011101101001101101000010\n",
      "------------------------------------------------------------\n",
      "Prime: 467, √467 ≈ 21.61018278\n",
      "Fractional bits: 10011100001101001111000001100010\n",
      "------------------------------------------------------------\n",
      "Prime: 479, √479 ≈ 21.88606863\n",
      "Fractional bits: 11100010110101010110010011000100\n",
      "------------------------------------------------------------\n",
      "Prime: 487, √487 ≈ 22.06807649\n",
      "Fractional bits: 00010001011011010111010111111101\n",
      "------------------------------------------------------------\n",
      "Prime: 491, √491 ≈ 22.15851981\n",
      "Fractional bits: 00101000100101001100000100000111\n",
      "------------------------------------------------------------\n",
      "Prime: 499, √499 ≈ 22.33830790\n",
      "Fractional bits: 01010110100110110101100011000110\n",
      "------------------------------------------------------------\n",
      "Prime: 503, √503 ≈ 22.42766149\n",
      "Fractional bits: 01101101011110110011100100111001\n",
      "------------------------------------------------------------\n",
      "Prime: 509, √509 ≈ 22.56102835\n",
      "Fractional bits: 10001111100111111000110110111011\n",
      "------------------------------------------------------------\n",
      "Prime: 521, √521 ≈ 22.82542442\n",
      "Fractional bits: 11010011010011110000001111001101\n",
      "------------------------------------------------------------\n",
      "Prime: 523, √523 ≈ 22.86919325\n",
      "Fractional bits: 11011110100000110111001011101111\n",
      "------------------------------------------------------------\n",
      "Prime: 541, √541 ≈ 23.25940670\n",
      "Fractional bits: 01000010011010000111101000111001\n",
      "------------------------------------------------------------\n"
     ]
    }
   ],
   "execution_count": 19
  },
  {
   "metadata": {},
   "cell_type": "markdown",
   "source": [
    "#### Task 6: Proof of Work\n",
    "Find the word(s) in the English language with the greatest number of 0 bits at the beginning of their SHA256 hash digest.\n",
    "Include proof that any word you list is in at least one English dictionary.\n",
    "\n"
   ],
   "id": "c32a2d33bbc93208"
  },
  {
   "metadata": {},
   "cell_type": "markdown",
   "source": "",
   "id": "f9efa88f57aa73db"
  },
  {
   "metadata": {
    "ExecuteTime": {
     "end_time": "2025-04-15T19:59:53.645648Z",
     "start_time": "2025-04-15T19:59:53.643863Z"
    }
   },
   "cell_type": "code",
   "source": [
    "def get_sha256_hash(word: str) -> str:\n",
    "    \"\"\"Calculate the SHA256 hash of a given word.\"\"\"\n",
    "    hash_obj = hashlib.sha256(word.encode('utf-8'))\n",
    "    return hash_obj.hexdigest()\n"
   ],
   "id": "3a0e74364272c0e9",
   "outputs": [],
   "execution_count": 20
  },
  {
   "metadata": {
    "ExecuteTime": {
     "end_time": "2025-04-15T19:59:53.658724Z",
     "start_time": "2025-04-15T19:59:53.656937Z"
    }
   },
   "cell_type": "code",
   "source": [
    "def count_leading_zero_bits(hash_hex: str) -> int:\n",
    "    \"\"\"Count the number of leading zero bits in a hash hexadecimal string.\"\"\"\n",
    "    # Convert hex to binary string (without '0b' prefix)\n",
    "    binary = bin(int(hash_hex, 16))[2:].zfill(256)\n",
    "\n",
    "    # Count leading zeros\n",
    "    for i, bit in enumerate(binary):\n",
    "        if bit == '1':\n",
    "            return i\n",
    "    return len(binary)  # All zeros (extremely unlikely)"
   ],
   "id": "2f5816b20ce0ece5",
   "outputs": [],
   "execution_count": 21
  },
  {
   "metadata": {
    "ExecuteTime": {
     "end_time": "2025-04-15T19:59:53.666974Z",
     "start_time": "2025-04-15T19:59:53.664757Z"
    }
   },
   "cell_type": "code",
   "source": [
    "def load_word_list() -> List[str]:\n",
    "    \"\"\"Load a list of English words from a standard dictionary source.\"\"\"\n",
    "    try:\n",
    "        url = \"https://raw.githubusercontent.com/dwyl/english-words/master/words_alpha.txt\"\n",
    "        with urllib.request.urlopen(url) as response:\n",
    "            words = response.read().decode('utf-8').splitlines()\n",
    "        return [word.strip() for word in words if word.strip()]\n",
    "    except:\n",
    "        # Fallback to a smaller list if download fails\n",
    "        print(\"Failed to download dictionary, using built-in word list\")\n",
    "        with open('/usr/share/dict/words', 'r') as f:\n",
    "            return [line.strip() for line in f if line.strip()]"
   ],
   "id": "75ad503d347cb5c4",
   "outputs": [],
   "execution_count": 22
  },
  {
   "metadata": {
    "ExecuteTime": {
     "end_time": "2025-04-15T19:59:53.674570Z",
     "start_time": "2025-04-15T19:59:53.672420Z"
    }
   },
   "cell_type": "code",
   "source": [
    "def find_words_with_most_leading_zeros(words: List[str], top_n: int = 10) -> List[Tuple[str, int, str]]:\n",
    "    \"\"\"Find words with the most leading zero bits in their SHA256 hash.\"\"\"\n",
    "    word_counts = []\n",
    "\n",
    "    # Process each word\n",
    "    for word in words:\n",
    "        if word.isalpha():  # Only process alphabetic words\n",
    "            hash_hex = get_sha256_hash(word)\n",
    "            zeros = count_leading_zero_bits(hash_hex)\n",
    "            word_counts.append((word, zeros, hash_hex))\n",
    "\n",
    "    # Sort by number of leading zeros (descending)\n",
    "    word_counts.sort(key=lambda x: x[1], reverse=True)\n",
    "    return word_counts[:top_n]"
   ],
   "id": "2d4762c260fb51e4",
   "outputs": [],
   "execution_count": 23
  },
  {
   "metadata": {
    "ExecuteTime": {
     "end_time": "2025-04-15T19:59:53.683762Z",
     "start_time": "2025-04-15T19:59:53.680810Z"
    }
   },
   "cell_type": "code",
   "source": [
    "def display_results(results: List[Tuple[str, int, str]]):\n",
    "    \"\"\"Display the top words with their leading zero counts and hashes.\"\"\"\n",
    "    print(\"\\nWords with most leading zero bits in SHA256 hash:\")\n",
    "    print(\"================================================\")\n",
    "\n",
    "    for i, (word, zeros, hash_hex) in enumerate(results):\n",
    "        print(f\"\\n{i+1}. Word: {word}\")\n",
    "        print(f\"   Leading zero bits: {zeros}\")\n",
    "        print(f\"   SHA256 hash: {hash_hex}\")\n",
    "\n",
    "        # Display the first few bytes in binary to show the leading zeros\n",
    "        binary = bin(int(hash_hex[:16], 16))[2:].zfill(64)  # First 16 hex chars (64 bits)\n",
    "        print(f\"   Binary (first 64 bits): {binary}\")\n",
    "\n",
    "\n",
    "def find_proof_of_work_words():\n",
    "    \"\"\"Main function to find English words with most leading zeros in SHA256 hash.\"\"\"\n",
    "    print(\"Loading dictionary...\")\n",
    "    words = load_word_list()\n",
    "    print(f\"Loaded {len(words)} words\")\n",
    "\n",
    "    print(\"Processing words (this may take a while)...\")\n",
    "    top_words = find_words_with_most_leading_zeros(words, top_n=10)\n",
    "\n",
    "    display_results(top_words)\n",
    "\n",
    "    # Proof of dictionary inclusion\n",
    "    print(\"\\nProof of English dictionary inclusion:\")\n",
    "    print(\"=======================================\")\n",
    "    for word, _, _ in top_words[:3]:  # Show proof for top 3 words\n",
    "        print(f\"Word '{word}' can be verified at: https://www.merriam-webster.com/dictionary/{word}\")\n",
    "\n"
   ],
   "id": "85d42b2bdb2aa862",
   "outputs": [],
   "execution_count": 24
  },
  {
   "metadata": {
    "ExecuteTime": {
     "end_time": "2025-04-15T19:59:53.968637Z",
     "start_time": "2025-04-15T19:59:53.689615Z"
    }
   },
   "cell_type": "code",
   "source": "find_proof_of_work_words()",
   "id": "c530a9be2063028e",
   "outputs": [
    {
     "name": "stdout",
     "output_type": "stream",
     "text": [
      "Loading dictionary...\n",
      "Failed to download dictionary, using built-in word list\n",
      "Loaded 235976 words\n",
      "Processing words (this may take a while)...\n",
      "\n",
      "Words with most leading zero bits in SHA256 hash:\n",
      "================================================\n",
      "\n",
      "1. Word: guilefulness\n",
      "   Leading zero bits: 16\n",
      "   SHA256 hash: 0000d79e1c6964e6806e9bbdaaaecb63dfabdb498f72bf28944119de1fe90d63\n",
      "   Binary (first 64 bits): 0000000000000000110101111001111000011100011010010110010011100110\n",
      "\n",
      "2. Word: mismatchment\n",
      "   Leading zero bits: 16\n",
      "   SHA256 hash: 0000bb6ede9f29a01d35e15320229aa0fbd73cf8eb8bc0aac80d6a97fba63fee\n",
      "   Binary (first 64 bits): 0000000000000000101110110110111011011110100111110010100110100000\n",
      "\n",
      "3. Word: mountable\n",
      "   Leading zero bits: 15\n",
      "   SHA256 hash: 00019347bddcfe0cd6b54f6751d9928518ad1acff8c8489f14fb834da3795f64\n",
      "   Binary (first 64 bits): 0000000000000001100100110100011110111101110111001111111000001100\n",
      "\n",
      "4. Word: suavely\n",
      "   Leading zero bits: 15\n",
      "   SHA256 hash: 00014bf3373419091980bd3f333ed96ef0223316e3a02408b73a14a4c560f0b4\n",
      "   Binary (first 64 bits): 0000000000000001010010111111001100110111001101000001100100001001\n",
      "\n",
      "5. Word: alpestral\n",
      "   Leading zero bits: 14\n",
      "   SHA256 hash: 0002e77383f5798c98a3ccb4b282a66a739142d01eea04c28d4948ec1b903fa1\n",
      "   Binary (first 64 bits): 0000000000000010111001110111001110000011111101010111100110001100\n",
      "\n",
      "6. Word: courteously\n",
      "   Leading zero bits: 14\n",
      "   SHA256 hash: 000325bc7eb7fe65a9548882bc7d99322a7762849315609d67fac7166ec5be87\n",
      "   Binary (first 64 bits): 0000000000000011001001011011110001111110101101111111111001100101\n",
      "\n",
      "7. Word: epizoarian\n",
      "   Leading zero bits: 14\n",
      "   SHA256 hash: 00020028b3d9ada502008ec8aeb8e2186bba28e351a9c64c76931c4d971fc3ee\n",
      "   Binary (first 64 bits): 0000000000000010000000000010100010110011110110011010110110100101\n",
      "\n",
      "8. Word: insomuch\n",
      "   Leading zero bits: 14\n",
      "   SHA256 hash: 0002087044d22c5efbb350b84618d3766a6470e8366e732d9b3919d5dd301975\n",
      "   Binary (first 64 bits): 0000000000000010000010000111000001000100110100100010110001011110\n",
      "\n",
      "9. Word: melanose\n",
      "   Leading zero bits: 14\n",
      "   SHA256 hash: 0003d708061d23377c26d29dbb84367ae6269527f1a6f4d02c6701e41e3a1d67\n",
      "   Binary (first 64 bits): 0000000000000011110101110000100000000110000111010010001100110111\n",
      "\n",
      "10. Word: preponderate\n",
      "   Leading zero bits: 14\n",
      "   SHA256 hash: 000248e45c3b28da3102d448663a8c5691782648a925bb1d95f10fc50445bec4\n",
      "   Binary (first 64 bits): 0000000000000010010010001110010001011100001110110010100011011010\n",
      "\n",
      "Proof of English dictionary inclusion:\n",
      "=======================================\n",
      "Word 'guilefulness' can be verified at: https://www.merriam-webster.com/dictionary/guilefulness\n",
      "Word 'mismatchment' can be verified at: https://www.merriam-webster.com/dictionary/mismatchment\n",
      "Word 'mountable' can be verified at: https://www.merriam-webster.com/dictionary/mountable\n"
     ]
    }
   ],
   "execution_count": 25
  }
 ],
 "metadata": {
  "kernelspec": {
   "display_name": "Python 3",
   "language": "python",
   "name": "python3"
  },
  "language_info": {
   "codemirror_mode": {
    "name": "ipython",
    "version": 2
   },
   "file_extension": ".py",
   "mimetype": "text/x-python",
   "name": "python",
   "nbconvert_exporter": "python",
   "pygments_lexer": "ipython2",
   "version": "2.7.6"
  }
 },
 "nbformat": 4,
 "nbformat_minor": 5
}
