{
 "cells": [
  {
   "metadata": {},
   "cell_type": "markdown",
   "source": "# Tasks\n",
   "id": "87157f11580b523a"
  },
  {
   "metadata": {},
   "cell_type": "markdown",
   "source": [
    "##### Task 1: Binary Representations\n",
    "Create the following functions in Python, demonstrating their use with examples and tests.\n",
    "\n",
    "The function `rotl(x, n=1)` that rotates the bits in a 32-bit unsigned integer to the left n places.\n",
    "\n",
    "The function `rotr(x, n=1)` that rotates the bits in a 32-bit unsigned integer to the right n places.\n",
    "\n",
    "The function `ch(x, y, z)` that chooses the bits from y where x has bits set to 1 and bits in z where x has bits set to 0.\n",
    "\n",
    "The function `maj(x, y, z)` which takes a majority vote of the bits in x, y, and z.\n",
    "The output should have a 1 in bit position i where at least two of x, y, and z have 1's in position i.\n",
    "All other output bit positions should be 0.\n",
    "\n",
    "\n"
   ],
   "id": "a5ef469fba983d99"
  },
  {
   "metadata": {
    "ExecuteTime": {
     "end_time": "2025-01-29T12:37:31.915122Z",
     "start_time": "2025-01-29T12:37:31.912925Z"
    }
   },
   "cell_type": "code",
   "source": [
    "# IMPORTS\n",
    "import numpy as np\n",
    "import pandas as pd\n",
    "import seaborn as sb"
   ],
   "id": "38b4028de56f98e4",
   "outputs": [],
   "execution_count": 3
  },
  {
   "metadata": {
    "ExecuteTime": {
     "end_time": "2025-01-29T12:37:29.746474Z",
     "start_time": "2025-01-29T12:37:29.742672Z"
    }
   },
   "cell_type": "code",
   "source": [
    "def rot1(x: int, n:int = 1) -> int: # takes in X - the integer to rotate, and n the rotations (defaults to 1)\n",
    "    # assign x to 32bit memory maximum address range\n",
    "    x = x & 0xFFFFFFFF\n",
    "    n = n % 32 # normalises n to be within a [0, 32] bit range, any rotation over this is made small\n",
    "\n",
    "    # X is then shifted to the left by the amount of [n] bits, the second set of our\n",
    "    # return statement shifts x to the right [32-n] bits which causes a wrap around,\n",
    "    # finally bitwise & operator used to match to 32bit output\n",
    "    return (x << n) | (x >> (32 - n)) & 0xFFFFFFFF"
   ],
   "id": "c3cee4459324572c",
   "outputs": [],
   "execution_count": 2
  },
  {
   "metadata": {},
   "cell_type": "code",
   "outputs": [],
   "execution_count": null,
   "source": "# TODO: implement rot2",
   "id": "adb1db6cfd140aff"
  },
  {
   "metadata": {},
   "cell_type": "markdown",
   "source": " **Task 1 Test cases:**",
   "id": "436f3d8b87f334c3"
  },
  {
   "metadata": {},
   "cell_type": "code",
   "outputs": [],
   "execution_count": null,
   "source": "# TODO: implement test cases",
   "id": "4a3551ef24180b9a"
  }
 ],
 "metadata": {
  "kernelspec": {
   "display_name": "Python 3",
   "language": "python",
   "name": "python3"
  },
  "language_info": {
   "codemirror_mode": {
    "name": "ipython",
    "version": 2
   },
   "file_extension": ".py",
   "mimetype": "text/x-python",
   "name": "python",
   "nbconvert_exporter": "python",
   "pygments_lexer": "ipython2",
   "version": "2.7.6"
  }
 },
 "nbformat": 4,
 "nbformat_minor": 5
}
