{
 "cells": [
  {
   "metadata": {},
   "cell_type": "markdown",
   "source": "# Tasks\n",
   "id": "87157f11580b523a"
  },
  {
   "metadata": {},
   "cell_type": "markdown",
   "source": [
    "##### Task 1: Binary Representations\n",
    "Create the following functions in Python, demonstrating their use with examples and tests.\n",
    "\n",
    "The function `rotl(x, n=1)` that rotates the bits in a 32-bit unsigned integer to the left n places.\n",
    "\n",
    "The function `rotr(x, n=1)` that rotates the bits in a 32-bit unsigned integer to the right n places.\n",
    "\n",
    "The function `ch(x, y, z)` that chooses the bits from y where x has bits set to 1 and bits in z where x has bits set to 0.\n",
    "\n",
    "The function `maj(x, y, z)` which takes a majority vote of the bits in x, y, and z.\n",
    "The output should have a 1 in bit position i where at least two of x, y, and z have 1's in position i.\n",
    "All other output bit positions should be 0.\n",
    "\n",
    "\n"
   ],
   "id": "a5ef469fba983d99"
  },
  {
   "metadata": {
    "ExecuteTime": {
     "end_time": "2025-02-12T11:40:38.706142Z",
     "start_time": "2025-02-12T11:40:38.702873Z"
    }
   },
   "cell_type": "code",
   "source": [
    "# IMPORTS\n",
    "import numpy as np\n",
    "import pandas as pd\n",
    "import seaborn as sb\n",
    "import unittest"
   ],
   "id": "38b4028de56f98e4",
   "outputs": [],
   "execution_count": 73
  },
  {
   "metadata": {
    "ExecuteTime": {
     "end_time": "2025-02-12T11:40:38.713877Z",
     "start_time": "2025-02-12T11:40:38.711055Z"
    }
   },
   "cell_type": "code",
   "source": [
    "def rotl(x: int, n:int = 1) -> int: # takes in X - the integer to rotate, and n the rotations (defaults to 1)\n",
    "    # assign x to 32bit memory maximum address range\n",
    "    x = x & 0xFFFFFFFF\n",
    "    n = n % 32 # normalises n to be within a [0, 32] bit range, any rotation over this is made small\n",
    "\n",
    "    if n == 0:\n",
    "        return x\n",
    "    # X is then shifted to the left by the amount of [n] bits, the second set of our\n",
    "    # return statement shifts x to the right [32-n] bits which causes a wrap around,\n",
    "    # finally bitwise & operator used to match to 32bit output\n",
    "\n",
    "    return (x << n) | (x >> (32 - n)) & 0xFFFFFFFF"
   ],
   "id": "c3cee4459324572c",
   "outputs": [],
   "execution_count": 74
  },
  {
   "metadata": {
    "ExecuteTime": {
     "end_time": "2025-02-12T11:40:38.722472Z",
     "start_time": "2025-02-12T11:40:38.719859Z"
    }
   },
   "cell_type": "code",
   "source": [
    "def rotr(x: int, n:int = 1) -> int: # takes in X - the integer to rotate, and n, the rotations (defaults to 1)\n",
    "    # assign x to 32bit memory maximum address range\n",
    "    x = x & 0xFFFFFFFF\n",
    "    n = n % 32 # normalises n to be within a [0, 32] bit range, any rotation over this is made small\n",
    "\n",
    "    if n == 0:\n",
    "        return x\n",
    "\n",
    "    # X is then shifted to the right by the amount of [n] bits, the second set of our\n",
    "    # return statement shifts x to the left [32-n] bits which causes a wrap around,\n",
    "    # finally bitwise & operator used to match to 32bit output\n",
    "    return ((x >> n) | (x << (32 - n))) & 0xFFFFFFFF"
   ],
   "id": "adb1db6cfd140aff",
   "outputs": [],
   "execution_count": 75
  },
  {
   "metadata": {
    "ExecuteTime": {
     "end_time": "2025-02-12T11:40:38.729624Z",
     "start_time": "2025-02-12T11:40:38.727921Z"
    }
   },
   "cell_type": "code",
   "source": "# TODO: implement ch",
   "id": "4123adbf757fe462",
   "outputs": [],
   "execution_count": 76
  },
  {
   "metadata": {},
   "cell_type": "markdown",
   "source": " **Task 1 Test cases:**",
   "id": "436f3d8b87f334c3"
  },
  {
   "metadata": {
    "ExecuteTime": {
     "end_time": "2025-02-12T11:46:09.109844Z",
     "start_time": "2025-02-12T11:46:09.104920Z"
    }
   },
   "cell_type": "code",
   "source": [
    "# Test case 1: Simple number rotation\n",
    "x = 5\n",
    "print(f\"Original number: {x} (binary: {bin(x)[2:].zfill(32)})\")\n",
    "rotated_left = rotl(x, 1)\n",
    "print(f\"Rotated left by 1: {rotated_left} (binary: {bin(rotated_left)[2:].zfill(32)})\")\n",
    "rotated_right = rotr(x, 1)\n",
    "print(f\"Rotated right by 1: {rotated_right} (binary: {bin(rotated_right)[2:].zfill(32)})\")\n",
    "\n",
    "# Test case 2: Zero rotation\n",
    "x = 0x12345678\n",
    "print(f\"\\nOriginal number: {hex(x)}\")\n",
    "print(f\"Rotated left by 0: {hex(rotl(x, 0))}\")\n",
    "print(f\"Rotated right by 0: {hex(rotr(x, 0))}\")\n",
    "\n",
    "# Test case 3: Inverse operation check\n",
    "print(f\"\\nTesting inverse operations:\")\n",
    "x = 0x12345678\n",
    "left_then_right = rotr(rotl(x, 1), 1)\n",
    "print(f\"Original: {hex(x)}\")\n",
    "print(f\"Rotated left then right: {hex(left_then_right)}\")\n",
    "print(f\"Are they equal? {x == left_then_right}\")"
   ],
   "id": "4a3551ef24180b9a",
   "outputs": [
    {
     "name": "stdout",
     "output_type": "stream",
     "text": [
      "Original number: 5 (binary: 00000000000000000000000000000101)\n",
      "Rotated left by 1: 10 (binary: 00000000000000000000000000001010)\n",
      "Rotated right by 1: 2147483650 (binary: 10000000000000000000000000000010)\n",
      "\n",
      "Original number: 0x12345678\n",
      "Rotated left by 0: 0x12345678\n",
      "Rotated right by 0: 0x12345678\n",
      "\n",
      "Testing inverse operations:\n",
      "Original: 0x12345678\n",
      "Rotated left then right: 0x12345678\n",
      "Are they equal? True\n"
     ]
    }
   ],
   "execution_count": 82
  }
 ],
 "metadata": {
  "kernelspec": {
   "display_name": "Python 3",
   "language": "python",
   "name": "python3"
  },
  "language_info": {
   "codemirror_mode": {
    "name": "ipython",
    "version": 2
   },
   "file_extension": ".py",
   "mimetype": "text/x-python",
   "name": "python",
   "nbconvert_exporter": "python",
   "pygments_lexer": "ipython2",
   "version": "2.7.6"
  }
 },
 "nbformat": 4,
 "nbformat_minor": 5
}
